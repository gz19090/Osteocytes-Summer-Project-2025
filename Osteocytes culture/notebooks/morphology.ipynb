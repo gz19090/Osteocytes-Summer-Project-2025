{
    "nbformat": 4,
    "nbformat_minor": 0,
    "metadata": {
      "colab": {
        "provenance": []
      },
      "kernelspec": {
        "name": "python3",
        "display_name": "Python 3"
      },
      "language_info": {
        "name": "python"
      }
    },
    "cells": [
      {
        "cell_type": "markdown",
        "source": [
          "# Comparison of Mutant and Wildtype Osteocyte Cell Morphology\n",
          "\n",
          "This notebook compares cell morphology features between wildtype (control) and mutant (LTBP3-deficient) osteocytes.\n",
          "It loads data from CSV files in the `results/metrics/wildtype/` and `results/metrics/mutant/` folders.\n",
          "If no CSVs are found (e.g., pipeline not run yet), it uses hardcoded example data as a fallback.\n",
          "\n",
          "Analyses:\n",
          "1. PCA of cell-morphology features (wildtype: blue circles, mutant: red triangles).\n",
          "2. Violin plots for each feature with p-values (Mann-Whitney U test).\n",
          "\n",
          "Required libraries: pandas, numpy, matplotlib, seaborn, scikit-learn, scipy.\n",
          "\n",
          "**Note**: Run the main workflow script first to generate CSVs in `results/metrics/`."
        ],
        "metadata": {
          "id": "intro"
        }
      },
      {
        "cell_type": "code",
        "source": [
          "import pandas as pd\n",
          "import numpy as np\n",
          "import matplotlib.pyplot as plt\n",
          "import seaborn as sns\n",
          "from sklearn.decomposition import PCA\n",
          "from sklearn.preprocessing import StandardScaler\n",
          "from scipy.stats import mannwhitneyu\n",
          "from pathlib import Path\n",
          "\n",
          "# Define paths to metrics folders\n",
          "metrics_dir = Path('../results/metrics')  # Adjust if notebook is in notebooks folder\n",
          "wildtype_dir = metrics_dir / 'wildtype'\n",
          "mutant_dir = metrics_dir / 'mutant'\n",
          "\n",
          "# Features to analyze\n",
          "features = [\n",
          "    'area', 'convex_area', 'bbox_area', 'equivalent_diameter',\n",
          "    'perimeter', 'extent', 'eccentricity', 'form_factor',\n",
          "    'solidity', 'compactness'\n",
          "]"
        ],
        "metadata": {
          "id": "imports"
        },
        "execution_count": null,
        "outputs": []
      },
      {
        "cell_type": "code",
        "source": [
          "# Load all CSV files from a directory and add condition label\n",
          "def load_csvs_from_dir(directory: Path, condition: str) -> pd.DataFrame:\n",
          "    dfs = []\n",
          "    for csv_path in directory.glob('*.csv'):\n",
          "        df = pd.read_csv(csv_path)\n",
          "        df['condition'] = condition\n",
          "        dfs.append(df)\n",
          "    if dfs:\n",
          "        return pd.concat(dfs, ignore_index=True)\n",
          "    else:\n",
          "        print(f'No CSV files found in {directory}. Using hardcoded example data as fallback.')\n",
          "        return pd.DataFrame()\n",
          "\n",
          "# Load wildtype and mutant data\n",
          "df_wildtype = load_csvs_from_dir(wildtype_dir, 'wildtype')\n",
          "df_mutant = load_csvs_from_dir(mutant_dir, 'mutant')\n",
          "\n",
          "# If both are empty, use hardcoded example data\n",
          "if df_wildtype.empty and df_mutant.empty:\n",
          "    print('Loading hardcoded example data.')\n",
          "    # Hardcoded mutant example\n",
          "    df_mutant = pd.DataFrame({\n",
          "        'label': [1, 2, 4, 7, 8, 10],\n",
          "        'area': [113.0, 20.0, 14.0, 14.0, 998.0, 25.0],\n",
          "        'convex_area': [122.0, 21.0, 14.0, 14.0, 1580.0, 29.0],\n",
          "        'bbox_area': [144.0, 24.0, 16.0, 15.0, 2407.0, 35.0],\n",
          "        'equivalent_diameter': [11.9948, 5.0463, 4.2220, 4.2220, 35.6468, 5.6419],\n",
          "        'perimeter': [46.5563, 14.6213, 10.8284, 11.4142, 281.5219, 16.8640],\n",
          "        'extent': [0.7847, 0.8333, 0.8750, 0.9333, 0.4146, 0.7143],\n",
          "        'eccentricity': [0.8070, 0.7289, 0.2037, 0.8165, 0.9759, 0.8250],\n",
          "        'form_factor': [0.6551, 1.1756, 1.5004, 1.3503, 0.1582, 1.1047],\n",
          "        'solidity': [0.9262, 0.9524, 1.0, 1.0, 0.6316, 0.8621],\n",
          "        'compactness': [1.5264, 0.8506, 0.6665, 0.7405, 6.3195, 0.9053],\n",
          "        'condition': ['mutant'] * 6\n",
          "    })\n",
          "\n",
          "    # Hardcoded wildtype example\n",
          "    df_wildtype = pd.DataFrame({\n",
          "        'label': [2, 3, 5, 9, 12, 16],\n",
          "        'area': [121.0, 26.0, 21.0, 72.0, 38.0, 14.0],\n",
          "        'convex_area': [211.0, 29.0, 29.0, 125.0, 45.0, 15.0],\n",
          "        'bbox_area': [465.0, 35.0, 42.0, 238.0, 49.0, 16.0],\n",
          "        'equivalent_diameter': [12.4122, 5.7536, 5.1709, 9.5746, 6.9558, 4.2220],\n",
          "        'perimeter': [76.5269, 18.4853, 16.8284, 52.7635, 26.4853, 12.2426],\n",
          "        'extent': [0.2602, 0.7429, 0.5000, 0.3025, 0.7755, 0.8750],\n",
          "        'eccentricity': [0.9772, 0.7227, 0.8009, 0.9538, 0.6467, 0.5668],\n",
          "        'form_factor': [0.2596, 0.9562, 0.9318, 0.3250, 0.6807, 1.1738],\n",
          "        'solidity': [0.5735, 0.8966, 0.7241, 0.5760, 0.8444, 0.9333],\n",
          "        'compactness': [3.8515, 1.0458, 1.0731, 3.0770, 1.4690, 0.8519],\n",
          "        'condition': ['wildtype'] * 6\n",
          "    })\n",
          "\n",
          "# Combine into one DataFrame\n",
          "df_all = pd.concat([df_wildtype, df_mutant], ignore_index=True)\n",
          "\n",
          "# Filter to only the required features and drop NaNs\n",
          "df_features = df_all[features + ['condition']].dropna()\n",
          "\n",
          "# Display summary\n",
          "df_features.groupby('condition').describe()"
        ],
        "metadata": {
          "id": "load_data"
        },
        "execution_count": null,
        "outputs": []
      },
      {
        "cell_type": "markdown",
        "source": [
          "## 1. PCA of Cell-Morphology Features"
        ],
        "metadata": {
          "id": "pca_title"
        }
      },
      {
        "cell_type": "code",
        "source": [
          "# Prepare data for PCA\n",
          "X = df_features[features]\n",
          "y = df_features['condition']\n",
          "\n",
          "# Standardize features\n",
          "scaler = StandardScaler()\n",
          "X_scaled = scaler.fit_transform(X)\n",
          "\n",
          "# Perform PCA (2 components for plotting)\n",
          "pca = PCA(n_components=2)\n",
          "X_pca = pca.fit_transform(X_scaled)\n",
          "\n",
          "# Create DataFrame for plotting\n",
          "df_pca = pd.DataFrame(X_pca, columns=['PC1', 'PC2'])\n",
          "df_pca['condition'] = y.values\n",
          "\n",
          "# Plot PCA\n",
          "plt.figure(figsize=(8, 6))\n",
          "sns.scatterplot(data=df_pca[df_pca['condition'] == 'wildtype'], x='PC1', y='PC2', color='blue', marker='o', label='Wildtype (Control)')\n",
          "sns.scatterplot(data=df_pca[df_pca['condition'] == 'mutant'], x='PC1', y='PC2', color='red', marker='^', label='Mutant (LTBP3)')\n",
          "plt.title('PCA of Cell Morphology Features')\n",
          "plt.xlabel(f'PC1 ({pca.explained_variance_ratio_[0]:.2%} variance)')\n",
          "plt.ylabel(f'PC2 ({pca.explained_variance_ratio_[1]:.2%} variance)')\n",
          "plt.legend()\n",
          "plt.show()"
        ],
        "metadata": {
          "id": "pca"
        },
        "execution_count": null,
        "outputs": []
      },
      {
        "cell_type": "markdown",
        "source": [
          "## 2. Violin Plots of Features with P-Values"
        ],
        "metadata": {
          "id": "violin_title"
        }
      },
      {
        "cell_type": "code",
        "source": [
          "# Function to compute p-value (Mann-Whitney U test)\n",
          "def compute_p_value(feature):\n",
          "    wild = df_features[df_features['condition'] == 'wildtype'][feature]\n",
          "    mut = df_features[df_features['condition'] == 'mutant'][feature]\n",
          "    stat, p = mannwhitneyu(wild, mut)\n",
          "    return p\n",
          "\n",
          "# Plot violin plots for each feature\n",
          "fig, axes = plt.subplots(5, 2, figsize=(12, 20))\n",
          "axes = axes.flatten()\n",
          "\n",
          "for i, feature in enumerate(features):\n",
          "    p = compute_p_value(feature)\n",
          "    sns.violinplot(data=df_features, x='condition', y=feature, ax=axes[i], inner='point')\n",
          "    axes[i].set_title(f'{feature} (p = {p:.2e})')\n",
          "    axes[i].set_xlabel('Condition')\n",
          "    axes[i].set_ylabel(feature.capitalize())\n",
          "\n",
          "plt.tight_layout()\n",
          "plt.show()"
        ],
        "metadata": {
          "id": "violin_plots"
        },
        "execution_count": null,
        "outputs": []
      }
    ]
  }